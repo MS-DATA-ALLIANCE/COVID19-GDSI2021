{
 "cells": [
  {
   "cell_type": "code",
   "execution_count": null,
   "metadata": {},
   "outputs": [],
   "source": [
    "import pandas as pd\n",
    "import numpy as np\n",
    "import querries\n",
    "import os\n",
    "import sys\n",
    "sys.path.insert(1, '../')\n",
    "\n",
    "from data_quality.scripts.utils_cleaning import clean_data\n",
    "from data_quality.scripts.utils import enhance_data\n",
    "\n",
    "df = pd.read_csv(\"./Data/msda_data_clinicians.csv\")\n",
    "\n",
    "#Needed to interface with cleaning scripts\n",
    "df[\"id\"] = np.arange(df.shape[0])\n",
    "date_cols = [c for c in df.columns if \"date\" in c]\n",
    "for date_col in date_cols:\n",
    "    df[date_col] = pd.to_datetime(df[date_col],errors=\"coerce\")\n",
    "\n",
    "#Clean\n",
    "print(\"Cleaning data ....\")\n",
    "df = clean_data(df,None,None)\n",
    "#Augment\n",
    "print(\"Creating new variables ....\")\n",
    "\n",
    "df[\"report_source\"]=\"clinicians\"\n",
    "df = enhance_data(df)\n",
    "df[\"secret_name\"] = np.arange(df.shape[0])\n",
    "#Compute the tables\n",
    "print(\"Computing tables ....\")\n",
    "querries.compute_tables(df, report_source = \"clinicians\")\n",
    "print(\"Done !\")\n",
    "\n"
   ]
  }
 ],
 "metadata": {
  "kernelspec": {
   "display_name": "Python 3",
   "language": "python",
   "name": "python3"
  },
  "language_info": {
   "codemirror_mode": {
    "name": "ipython",
    "version": 3
   },
   "file_extension": ".py",
   "mimetype": "text/x-python",
   "name": "python",
   "nbconvert_exporter": "python",
   "pygments_lexer": "ipython3",
   "version": "3.8.5"
  }
 },
 "nbformat": 4,
 "nbformat_minor": 4
}
