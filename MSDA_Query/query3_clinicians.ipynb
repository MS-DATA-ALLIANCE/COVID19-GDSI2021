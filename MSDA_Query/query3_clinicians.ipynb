{
 "cells": [
  {
   "cell_type": "code",
   "execution_count": null,
   "metadata": {},
   "outputs": [],
   "source": [
    "import pandas as pd\n",
    "import numpy as np\n",
    "import querries\n",
    "import os\n",
    "import sys\n",
    "sys.path.insert(1, '../')\n",
    "\n",
    "from data_quality.scripts.utils_cleaning import clean_data\n",
    "from data_quality.scripts.utils import enhance_data, clean_dates\n",
    "\n",
    "df = pd.read_csv(\"./Data/msda_data_clinicians.csv\")\n",
    "\n",
    "#Needed to interface with cleaning scripts\n",
    "df[\"id\"] = np.arange(df.shape[0])\n",
    "date_cols = [c for c in df.columns if \"date\" in c]\n",
    "for date_col in date_cols:\n",
    "    df[date_col] = pd.to_datetime(df[date_col],errors=\"coerce\")\n",
    "\n",
    "#Clean\n",
    "print(\"Cleaning data ....\")\n",
    "df = clean_data(df,None,None)\n",
    "#Augment\n",
    "print(\"Creating new variables ....\")\n",
    "\n",
    "df = clean_dates(df)\n",
    "\n",
    "df[\"report_source\"]=\"clinicians\"\n",
    "df = enhance_data(df)\n",
    "df[\"secret_name\"] = np.arange(df.shape[0])\n",
    "#Compute the tables\n",
    "print(\"Computing tables ....\")\n",
    "querries.compute_tables(df, report_source = \"clinicians\")\n",
    "print(\"Done !\")\n",
    "\n",
    "os.makedirs(\"./Outputs\", exist_ok=True)\n",
    "file_name = \"clinicians_query3_bmi_in_cat2\"\n",
    "outcome_types = [\"covid19_admission_hospital\",\"covid19_icu_stay\",\"covid19_ventilation\",\"covid19_outcome_death\",\"covid19_outcome_ventilation_or_ICU\", \"covid19_outcome_levels_1\", \"covid19_outcome_levels_2\"]\n",
    "for outcome_type in outcome_types:\n",
    "    df = pd.read_csv(f\"./results/{file_name}_{outcome_type}.csv\")\n",
    "    if outcome_type==\"covid19_admission_hospital\":\n",
    "        variables_list = [\"dmt_type_overall\",\"age_in_cat\",\"ms_type2\",\"sex_binary\",\"edss_in_cat2\"]\n",
    "        variables_list += [\"covid19_diagnosis\"]\n",
    "        variables_list += [outcome_type]\n",
    "    else:\n",
    "        variables_list = [outcome_type]\n",
    "    for variable in variables_list:\n",
    "       # print(df.groupby(variable)[\"secret_name\"].sum()) #tables to return.\n",
    "       result = (df.groupby(variable)[\"secret_name\"].sum())\n",
    "       result.to_json(f\"./Outputs/clinicians-{variable}.json\")\n",
    "\n",
    "with open(\"DoneC.txt\", \"w\") as file:\n",
    "    file.write(\"query3_clinicians Process is Done\")\n"
   ]
  }
 ],
 "metadata": {
  "kernelspec": {
   "display_name": "Python 3",
   "language": "python",
   "name": "python3"
  },
  "language_info": {
   "codemirror_mode": {
    "name": "ipython",
    "version": 3
   },
   "file_extension": ".py",
   "mimetype": "text/x-python",
   "name": "python",
   "nbconvert_exporter": "python",
   "pygments_lexer": "ipython3",
   "version": "3.8.5"
  }
 },
 "nbformat": 4,
 "nbformat_minor": 4
}